{
 "cells": [
  {
   "cell_type": "code",
   "execution_count": null,
   "metadata": {
    "tags": []
   },
   "outputs": [],
   "source": [
    "import config # sets openai api key as environment variable\n",
    "\n",
    "import autoplotlib as aplt\n",
    "import pandas as pd\n",
    "\n",
    "# example dataframe \n",
    "data = pd.DataFrame(\n",
    "    [   \n",
    "        [29, 177],\n",
    "        [33, 186],\n",
    "        [48, 161],\n",
    "        [53, 173],\n",
    "        [67, 152],\n",
    "    ],\n",
    "    index=[\"Alice\", \"Bob\", \"Charlie\", \"Dave\", \"Eve\"],\n",
    "    columns=[\"age\", \"height\"],\n",
    ")\n",
    "\n",
    "figure_description = \"\"\"\n",
    "Plot the data as scatterplot between height and age. \n",
    "Add the names as labels next to the data points.\n",
    "Ensure the labels don't overlap. \n",
    "Mark people taller than 170 with a star instead of a point.\n",
    "\"\"\"\n",
    "\n",
    "code, fig, llm_response = aplt.plot(figure_description, data=data)"
   ]
  },
  {
   "cell_type": "code",
   "execution_count": null,
   "metadata": {},
   "outputs": [],
   "source": []
  }
 ],
 "metadata": {
  "kernelspec": {
   "display_name": "Python 3 (ipykernel)",
   "language": "python",
   "name": "python3"
  },
  "language_info": {
   "codemirror_mode": {
    "name": "ipython",
    "version": 3
   },
   "file_extension": ".py",
   "mimetype": "text/x-python",
   "name": "python",
   "nbconvert_exporter": "python",
   "pygments_lexer": "ipython3",
   "version": "3.11.2"
  }
 },
 "nbformat": 4,
 "nbformat_minor": 4
}
